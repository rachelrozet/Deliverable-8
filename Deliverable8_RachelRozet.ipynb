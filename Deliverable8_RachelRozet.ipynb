{
  "nbformat": 4,
  "nbformat_minor": 0,
  "metadata": {
    "colab": {
      "provenance": [],
      "include_colab_link": true
    },
    "kernelspec": {
      "name": "python3",
      "display_name": "Python 3"
    },
    "language_info": {
      "name": "python"
    }
  },
  "cells": [
    {
      "cell_type": "markdown",
      "metadata": {
        "id": "view-in-github",
        "colab_type": "text"
      },
      "source": [
        "<a href=\"https://colab.research.google.com/github/rachelrozet/Deliverable8/blob/main/Deliverable8_RachelRozet.ipynb\" target=\"_parent\"><img src=\"https://colab.research.google.com/assets/colab-badge.svg\" alt=\"Open In Colab\"/></a>"
      ]
    },
    {
      "cell_type": "code",
      "source": [
        "# Author: Rachel Rozet\n",
        "# Date 3/20/2023\n",
        "# Description: Create a program to randomly populate a list with integers numbers between 10 and 50 and return the summation of all the elements of the list."
      ],
      "metadata": {
        "id": "cR6JGJAEZrL5"
      },
      "execution_count": null,
      "outputs": []
    },
    {
      "cell_type": "code",
      "execution_count": null,
      "metadata": {
        "id": "x9oKr8VrhO5H"
      },
      "outputs": [],
      "source": [
        "# Import required data for beginning of code\n",
        "import numpy as np"
      ]
    },
    {
      "cell_type": "code",
      "source": [
        "# Define Method 1 to populate list of n numbers (n provided by user) that have a value between 10 and 50\n",
        "def random_list(size):\n",
        "  list = []\n",
        "  for i in range(size):\n",
        "    list.append(np.random.randint(10,50))\n",
        "  return list\n",
        "\n",
        "# Define Method 2 to sum the list of randomized numbers\n",
        "def sum_random (list):\n",
        "  sum = 0\n",
        "  for i in range(len(list)):\n",
        "    sum = sum + list[i]\n",
        "  return sum"
      ],
      "metadata": {
        "id": "CdPAX5pFheah"
      },
      "execution_count": null,
      "outputs": []
    },
    {
      "cell_type": "code",
      "source": [
        "# Ask the user to input an integere between 5 and 15 to be used as n (the number of integers in the randomized list)\n",
        "n = int(input(\"Enter an integer between 5 and 15: \"))"
      ],
      "metadata": {
        "colab": {
          "base_uri": "https://localhost:8080/"
        },
        "id": "Zf1L0_B2ikGX",
        "outputId": "d8caa1f6-ccd2-4085-9540-c35fb58f85e4"
      },
      "execution_count": null,
      "outputs": [
        {
          "name": "stdout",
          "output_type": "stream",
          "text": [
            "Enter an integer between 5 and 15: 7\n"
          ]
        }
      ]
    },
    {
      "cell_type": "code",
      "source": [
        "# Test if n is between 5 and 15\n",
        "# If true, complete Methods 1 and 2 (compile randomized list and sum of integers in list)\n",
        "# If false, ask the user to run the program again\n",
        "if n>=5 and n<=15:\n",
        "  MyList = random_list(n)\n",
        "  print(\"Randomized List:\")\n",
        "  print(MyList)\n",
        "  MySum = sum_random(MyList)\n",
        "  print(\"Sum of Randomized List:\")\n",
        "  print(MySum)\n",
        "else:\n",
        "  print(\"Integer is not between 5 and 15. Please run the program again.\")"
      ],
      "metadata": {
        "colab": {
          "base_uri": "https://localhost:8080/"
        },
        "id": "IhpqgssSXJLt",
        "outputId": "b884df6b-3e90-416b-86ad-efc3a1dc6f1e"
      },
      "execution_count": null,
      "outputs": [
        {
          "output_type": "stream",
          "name": "stdout",
          "text": [
            "Randomized List:\n",
            "[24, 14, 14, 25, 31, 31, 31]\n",
            "Sum of Randomized List:\n",
            "170\n"
          ]
        }
      ]
    }
  ]
}